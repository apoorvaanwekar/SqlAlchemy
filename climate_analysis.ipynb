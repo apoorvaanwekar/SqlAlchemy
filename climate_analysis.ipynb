{
 "cells": [
  {
   "cell_type": "code",
   "execution_count": 93,
   "metadata": {
    "collapsed": true
   },
   "outputs": [],
   "source": [
    "from sqlalchemy.ext.automap import automap_base\n",
    "from sqlalchemy.orm import Session\n",
    "from sqlalchemy import create_engine, inspect, func\n",
    "from datetime import datetime\n",
    "from dateutil.relativedelta import relativedelta\n",
    "import matplotlib.pyplot as plt\n",
    "import pandas as pd\n",
    "import numpy as np"
   ]
  },
  {
   "cell_type": "code",
   "execution_count": 94,
   "metadata": {
    "collapsed": true
   },
   "outputs": [],
   "source": [
    "# Create the connection engine\n",
    "engine = create_engine(\"sqlite:///hawaii.sqlite\")\n",
    "\n",
    "Base = automap_base()\n",
    "\n",
    "# reflect the tables\n",
    "Base.prepare(engine, reflect=True)\n",
    "\n",
    "Station = Base.classes.stations\n",
    "Measurement = Base.classes.measurements\n",
    "\n",
    "session = Session(bind=engine)"
   ]
  },
  {
   "cell_type": "code",
   "execution_count": 95,
   "metadata": {},
   "outputs": [],
   "source": [
    "#Precipitation Analysis\n",
    "year_ago = datetime.strptime('2017-01-01', '%Y-%m-%d')\n",
    "vacation_start_date = datetime.strptime('2018-02-10', '%Y-%m-%d')\n",
    "vacation_end_date = datetime.strptime('2018-02-20', '%Y-%m-%d')\n",
    "\n",
    "prcp_data = (session.query(Measurement.date, Measurement.prcp).filter(Measurement.date >= year_ago).all())\n"
   ]
  },
  {
   "cell_type": "code",
   "execution_count": 96,
   "metadata": {},
   "outputs": [
    {
     "data": {
      "text/plain": [
       "<matplotlib.figure.Figure at 0x12089a588>"
      ]
     },
     "metadata": {},
     "output_type": "display_data"
    },
    {
     "data": {
      "image/png": "[encoded data removed]",
      "text/plain": [
       "<matplotlib.figure.Figure at 0x118497780>"
      ]
     },
     "metadata": {},
     "output_type": "display_data"
    }
   ],
   "source": [
    "df = pd.DataFrame(prcp_data, columns=['date', 'prcp'])\n",
    "precipitation_df = df.rename(columns={\"date\":\"Date\",\"prcp\":\"Precipitation\"})\n",
    "precipitation_df.set_index('Date', inplace=True, )\n",
    "plt.figure();\n",
    "precipitation_df.plot(kind='bar');\n",
    "plt.show()"
   ]
  },
  {
   "cell_type": "code",
   "execution_count": 97,
   "metadata": {},
   "outputs": [
    {
     "data": {
      "text/html": [
       "<div>\n",
       "<style>\n",
       "    .dataframe thead tr:only-child th {\n",
       "        text-align: right;\n",
       "    }\n",
       "\n",
       "    .dataframe thead th {\n",
       "        text-align: left;\n",
       "    }\n",
       "\n",
       "    .dataframe tbody tr th {\n",
       "        vertical-align: top;\n",
       "    }\n",
       "</style>\n",
       "<table border=\"1\" class=\"dataframe\">\n",
       "  <thead>\n",
       "    <tr style=\"text-align: right;\">\n",
       "      <th></th>\n",
       "      <th>Precipitation</th>\n",
       "    </tr>\n",
       "  </thead>\n",
       "  <tbody>\n",
       "    <tr>\n",
       "      <th>count</th>\n",
       "      <td>1391.000000</td>\n",
       "    </tr>\n",
       "    <tr>\n",
       "      <th>mean</th>\n",
       "      <td>0.150884</td>\n",
       "    </tr>\n",
       "    <tr>\n",
       "      <th>std</th>\n",
       "      <td>0.435784</td>\n",
       "    </tr>\n",
       "    <tr>\n",
       "      <th>min</th>\n",
       "      <td>0.000000</td>\n",
       "    </tr>\n",
       "    <tr>\n",
       "      <th>25%</th>\n",
       "      <td>0.000000</td>\n",
       "    </tr>\n",
       "    <tr>\n",
       "      <th>50%</th>\n",
       "      <td>0.000000</td>\n",
       "    </tr>\n",
       "    <tr>\n",
       "      <th>75%</th>\n",
       "      <td>0.090000</td>\n",
       "    </tr>\n",
       "    <tr>\n",
       "      <th>max</th>\n",
       "      <td>6.250000</td>\n",
       "    </tr>\n",
       "  </tbody>\n",
       "</table>\n",
       "</div>"
      ],
      "text/plain": [
       "       Precipitation\n",
       "count    1391.000000\n",
       "mean        0.150884\n",
       "std         0.435784\n",
       "min         0.000000\n",
       "25%         0.000000\n",
       "50%         0.000000\n",
       "75%         0.090000\n",
       "max         6.250000"
      ]
     },
     "execution_count": 97,
     "metadata": {},
     "output_type": "execute_result"
    }
   ],
   "source": [
    "#  summary statistics for the precipitation data\n",
    "precipitation_df.describe()"
   ]
  },
  {
   "cell_type": "code",
   "execution_count": 98,
   "metadata": {},
   "outputs": [
    {
     "data": {
      "text/plain": [
       "9"
      ]
     },
     "execution_count": 98,
     "metadata": {},
     "output_type": "execute_result"
    }
   ],
   "source": [
    "#Station analysis\n",
    "#Design a query to calculate the total number of stations.\n",
    "station_results = (session.query(Station.station).count())\n",
    "station_results"
   ]
  },
  {
   "cell_type": "code",
   "execution_count": 99,
   "metadata": {},
   "outputs": [
    {
     "data": {
      "text/plain": [
       "[('USC00519281', 2772),\n",
       " ('USC00519397', 2724),\n",
       " ('USC00513117', 2709),\n",
       " ('USC00519523', 2669),\n",
       " ('USC00516128', 2612),\n",
       " ('USC00514830', 2202),\n",
       " ('USC00511918', 1979),\n",
       " ('USC00517948', 1372),\n",
       " ('USC00518838', 511)]"
      ]
     },
     "execution_count": 99,
     "metadata": {},
     "output_type": "execute_result"
    }
   ],
   "source": [
    "#Design a query to find the most active stations\n",
    "query_2 = (session\n",
    "          .query(Station.station.label('station'), func.count(Measurement.date).label('Observations'))\n",
    "          .filter(Station.station == Measurement.station)\n",
    "          .group_by(Station.station)\n",
    "          .order_by(func.count(Measurement.date).desc()).all())\n",
    "#List the stations and observation counts in descending order\n",
    "query_2"
   ]
  },
  {
   "cell_type": "code",
   "execution_count": 100,
   "metadata": {},
   "outputs": [
    {
     "data": {
      "text/plain": [
       "'USC00519281'"
      ]
     },
     "execution_count": 100,
     "metadata": {},
     "output_type": "execute_result"
    }
   ],
   "source": [
    "#Which station has the highest number of observations\n",
    "highest_no_of_obs = query_2[0][0]\n",
    "highest_no_of_obs"
   ]
  },
  {
   "cell_type": "code",
   "execution_count": 101,
   "metadata": {},
   "outputs": [
    {
     "data": {
      "text/plain": [
       "[(70),\n",
       " (64),\n",
       " (63),\n",
       " (63),\n",
       " (62),\n",
       " (70),\n",
       " (70),\n",
       " (62),\n",
       " (62),\n",
       " (63),\n",
       " (65),\n",
       " (69),\n",
       " (77),\n",
       " (70),\n",
       " (74),\n",
       " (69),\n",
       " (72),\n",
       " (71),\n",
       " (69),\n",
       " (71),\n",
       " (71),\n",
       " (72),\n",
       " (72),\n",
       " (69),\n",
       " (70),\n",
       " (66),\n",
       " (65),\n",
       " (69),\n",
       " (68),\n",
       " (68),\n",
       " (68),\n",
       " (59),\n",
       " (60),\n",
       " (70),\n",
       " (73),\n",
       " (75),\n",
       " (64),\n",
       " (59),\n",
       " (59),\n",
       " (62),\n",
       " (68),\n",
       " (70),\n",
       " (73),\n",
       " (79),\n",
       " (75),\n",
       " (65),\n",
       " (70),\n",
       " (74),\n",
       " (70),\n",
       " (70),\n",
       " (71),\n",
       " (71),\n",
       " (71),\n",
       " (69),\n",
       " (61),\n",
       " (67),\n",
       " (65),\n",
       " (72),\n",
       " (71),\n",
       " (73),\n",
       " (72),\n",
       " (77),\n",
       " (73),\n",
       " (67),\n",
       " (62),\n",
       " (64),\n",
       " (67),\n",
       " (66),\n",
       " (81),\n",
       " (69),\n",
       " (66),\n",
       " (67),\n",
       " (69),\n",
       " (66),\n",
       " (68),\n",
       " (65),\n",
       " (74),\n",
       " (69),\n",
       " (72),\n",
       " (73),\n",
       " (72),\n",
       " (71),\n",
       " (76),\n",
       " (77),\n",
       " (76),\n",
       " (74),\n",
       " (68),\n",
       " (73),\n",
       " (71),\n",
       " (74),\n",
       " (75),\n",
       " (70),\n",
       " (67),\n",
       " (71),\n",
       " (67),\n",
       " (74),\n",
       " (77),\n",
       " (78),\n",
       " (67),\n",
       " (70),\n",
       " (69),\n",
       " (69),\n",
       " (74),\n",
       " (78),\n",
       " (71),\n",
       " (67),\n",
       " (68),\n",
       " (67),\n",
       " (76),\n",
       " (69),\n",
       " (72),\n",
       " (76),\n",
       " (68),\n",
       " (72),\n",
       " (74),\n",
       " (70),\n",
       " (67),\n",
       " (72),\n",
       " (60),\n",
       " (65),\n",
       " (75),\n",
       " (70),\n",
       " (75),\n",
       " (70),\n",
       " (79),\n",
       " (75),\n",
       " (70),\n",
       " (67),\n",
       " (74),\n",
       " (70),\n",
       " (75),\n",
       " (76),\n",
       " (77),\n",
       " (74),\n",
       " (74),\n",
       " (74),\n",
       " (69),\n",
       " (68),\n",
       " (76),\n",
       " (74),\n",
       " (71),\n",
       " (71),\n",
       " (74),\n",
       " (74),\n",
       " (74),\n",
       " (74),\n",
       " (80),\n",
       " (74),\n",
       " (72),\n",
       " (75),\n",
       " (80),\n",
       " (76),\n",
       " (76),\n",
       " (77),\n",
       " (75),\n",
       " (75),\n",
       " (75),\n",
       " (75),\n",
       " (72),\n",
       " (74),\n",
       " (74),\n",
       " (74),\n",
       " (76),\n",
       " (74),\n",
       " (75),\n",
       " (73),\n",
       " (79),\n",
       " (75),\n",
       " (72),\n",
       " (72),\n",
       " (74),\n",
       " (72),\n",
       " (72),\n",
       " (77),\n",
       " (71),\n",
       " (73),\n",
       " (76),\n",
       " (77),\n",
       " (76),\n",
       " (76),\n",
       " (79),\n",
       " (81),\n",
       " (76),\n",
       " (78),\n",
       " (77),\n",
       " (74),\n",
       " (75),\n",
       " (78),\n",
       " (78),\n",
       " (69),\n",
       " (72),\n",
       " (74),\n",
       " (74),\n",
       " (76),\n",
       " (80),\n",
       " (80),\n",
       " (76),\n",
       " (76),\n",
       " (76),\n",
       " (77),\n",
       " (77),\n",
       " (77),\n",
       " (82),\n",
       " (75),\n",
       " (77),\n",
       " (75),\n",
       " (76),\n",
       " (81),\n",
       " (82),\n",
       " (81),\n",
       " (76),\n",
       " (77),\n",
       " (82),\n",
       " (83),\n",
       " (77),\n",
       " (77),\n",
       " (77),\n",
       " (76),\n",
       " (76),\n",
       " (79)]"
      ]
     },
     "execution_count": 101,
     "metadata": {},
     "output_type": "execute_result"
    }
   ],
   "source": [
    "query_3 = (session\n",
    "          .query(Measurement.tobs.label(\"Temprature\"))\n",
    "          .filter(Measurement.date >= year_ago)\n",
    "          .filter(Measurement.station == highest_no_of_obs)\n",
    "          .all())\n",
    "query_3"
   ]
  },
  {
   "cell_type": "code",
   "execution_count": 102,
   "metadata": {},
   "outputs": [
    {
     "data": {
      "text/plain": [
       "<matplotlib.figure.Figure at 0x1151eaf98>"
      ]
     },
     "metadata": {},
     "output_type": "display_data"
    },
    {
     "data": {
      "image/png": "[encoded data removed]",
      "text/plain": [
       "<matplotlib.figure.Figure at 0x11e76cc50>"
      ]
     },
     "metadata": {},
     "output_type": "display_data"
    }
   ],
   "source": [
    "temprature_df = pd.DataFrame(query_3, columns=['Temprature'])\n",
    "plt.figure()\n",
    "temprature_df.plot.hist(bins=12)\n",
    "plt.show()"
   ]
  },
  {
   "cell_type": "code",
   "execution_count": 103,
   "metadata": {
    "collapsed": true
   },
   "outputs": [],
   "source": [
    "def calc_temp(start_date, end_date):\n",
    "    query = (session\n",
    "            .query(func.min(Measurement.tobs).label(\"Minimum Temp\"), func.max(Measurement.tobs).label(\"Maximum Temp\"), func.avg(Measurement.tobs).label(\"Average Temp\"))\n",
    "            .filter(Measurement.date >= start_date)\n",
    "            .filter(Measurement.date <= end_date)\n",
    "            .all())\n",
    "    return query\n",
    "prev_year_start_date = (vacation_start_date - relativedelta(years=1)).strftime('%Y-%m-%d')\n",
    "prev_year_end_date = (vacation_end_date - relativedelta(years=1)).strftime('%Y-%m-%d')\n",
    "result = calc_temp(prev_year_start_date,  prev_year_end_date)"
   ]
  },
  {
   "cell_type": "code",
   "execution_count": 104,
   "metadata": {},
   "outputs": [
    {
     "data": {
      "text/plain": [
       "[(62, 80, 71.40298507462687)]"
      ]
     },
     "execution_count": 104,
     "metadata": {},
     "output_type": "execute_result"
    }
   ],
   "source": [
    "result"
   ]
  },
  {
   "cell_type": "code",
   "execution_count": 105,
   "metadata": {},
   "outputs": [
    {
     "data": {
      "image/png": "[encoded data removed]",
      "text/plain": [
       "<matplotlib.figure.Figure at 0x1204323c8>"
      ]
     },
     "metadata": {},
     "output_type": "display_data"
    }
   ],
   "source": [
    "fig1, ax1 = plt.subplots()\n",
    "# Create the boxplot\n",
    "Avg = [result[0][2]]\n",
    "Min = result[0][0]\n",
    "Max = result[0][1]\n",
    "x = range(1)\n",
    "rects = ax1.bar( x, Avg, yerr=Max-Min)\n",
    "ax1.xaxis.set_ticks_position('none') \n",
    "ax1.set_ylabel('Temp (F)')\n",
    "ax1.set_title('Trip Avg Temp')\n",
    "ax1.xaxis.set_visible(False)\n",
    "plt.show()"
   ]
  },
  {
   "cell_type": "code",
   "execution_count": 107,
   "metadata": {},
   "outputs": [],
   "source": [
    "# import Flask\n",
    "from flask import Flask, jsonify\n",
    "import json\n",
    "\n",
    "# define app\n",
    "app = Flask(\"Climate App\")\n",
    "\n",
    "\n",
    "#Add routes\n",
    "@app.route(\"/api/v1.0/precipitation\")\n",
    "def get_precipitation_data():\n",
    "    query_result = (session\n",
    "            .query(Measurement.date, Measurement.tobs)\n",
    "            .filter(Measurement.date >= year_ago)\n",
    "            .all())\n",
    "    prcp_dict = {}\n",
    "    for row in query_result:\n",
    "        prcp_dict[row[0]] = row[1]\n",
    "    return jsonify(prcp_dict)\n",
    "\n",
    "@app.route(\"/api/v1.0/stations\")\n",
    "def get_stations():\n",
    "    query_result = (session\n",
    "            .query(Station.station, Station.name)\n",
    "            .all())\n",
    "    json_list = []\n",
    "    d = {}\n",
    "    for row in query_result:\n",
    "        d['station code']=row[0]\n",
    "        d['station name']=row[1]\n",
    "        json_list.append(d)\n",
    "    return json.dumps(json_list, separators=(',',':'))\n",
    "\n",
    "@app.route(\"/api/v1.0/tobs\")\n",
    "def get_prev_year_temps():\n",
    "    query_result = (session\n",
    "            .query(Measurement.tobs, Measurement.date, Measurement.station)\n",
    "            .filter(Measurement.date >= year_ago)\n",
    "            .all())\n",
    "    json_list = []\n",
    "    d = {}\n",
    "    for row in query_result:\n",
    "        d['station code']=row[2]\n",
    "        d['date']=row[1].strftime('%Y-%m-%d')\n",
    "        d['temp']=row[0]\n",
    "        json_list.append(d)\n",
    "    return json.dumps(json_list, separators=(',',':'))\n",
    "\n",
    "@app.route(\"/api/v1.0/<start>\")\n",
    "@app.route(\"/api/v1.0/<start>/<end>\")\n",
    "def get_temprature_min_max_avg(start, end=\"2017-31-12\"):\n",
    "    start_date =  datetime.strptime(start, '%Y-%m-%d')\n",
    "    end_date = datetime.strptime(end, '%Y-%m-%d')\n",
    "    result = calc_temp(start_date, end_date)\n",
    "    mydict = {}\n",
    "    mydict['Minimum Temp'] = result[0][0]\n",
    "    mydict['Maximum Temp'] = result[0][1]\n",
    "    mydict['Average Temp'] = result[0][2]\n",
    "    return jsonify(mydict)\n",
    "    \n"
   ]
  },
  {
   "cell_type": "code",
   "execution_count": null,
   "metadata": {
    "collapsed": true
   },
   "outputs": [],
   "source": []
  }
 ],
 "metadata": {
  "kernelspec": {
   "display_name": "Python 3",
   "language": "python",
   "name": "python3"
  },
  "language_info": {
   "codemirror_mode": {
    "name": "ipython",
    "version": 3
   },
   "file_extension": ".py",
   "mimetype": "text/x-python",
   "name": "python",
   "nbconvert_exporter": "python",
   "pygments_lexer": "ipython3",
   "version": "3.6.2"
  }
 },
 "nbformat": 4,
 "nbformat_minor": 2
}
