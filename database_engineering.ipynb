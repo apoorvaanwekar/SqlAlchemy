{
 "cells": [
  {
   "cell_type": "code",
   "execution_count": 1,
   "metadata": {
    "collapsed": true
   },
   "outputs": [],
   "source": [
    "# Import Dependencies\n",
    "import pandas as pd\n",
    "import numpy as np\n",
    "\n",
    "\n",
    "# Import SQL Alchemy\n",
    "from sqlalchemy import create_engine\n",
    "# Import and establish Base for which classes will be constructed\n",
    "from sqlalchemy.ext.declarative import declarative_base\n",
    "# Import modules to declare columns and column data types\n",
    "from sqlalchemy import Column, Integer, String, Float, Date, ForeignKey\n",
    "# To push the objects made and query the server we use a Session object\n",
    "from sqlalchemy.orm import Session\n",
    "from datetime import datetime\n",
    "\n",
    "# Create a reference the CSV file desired\n",
    "measurements_csv_path = \"Data/clean_hawaii_measurements.csv\"\n",
    "stations_csv_path = \"Data/hawaii_stations.csv\"\n",
    "\n",
    "# Read the measurement CSV into a Pandas DataFrame\n",
    "measurements_df = pd.read_csv(measurements_csv_path)\n",
    "# Read the measurement CSV into a Pandas DataFrame\n",
    "stations_df = pd.read_csv(stations_csv_path)"
   ]
  },
  {
   "cell_type": "code",
   "execution_count": 2,
   "metadata": {
    "collapsed": true
   },
   "outputs": [],
   "source": [
    "# Create Database Connection\n",
    "# ----------------------------------\n",
    "# Establish Connection to database\n",
    "engine = create_engine(f'sqlite:///hawaii.sqlite')\n",
    "\n",
    "# Declare Base\n",
    "Base = declarative_base()\n",
    "\n",
    "# Create Station and Measurement classes\n",
    "# ----------------------------------\n",
    "    \n",
    "class Station(Base):\n",
    "    __tablename__ = 'stations'\n",
    "    station = Column(String(15), primary_key=True)\n",
    "    name = Column(String(255))\n",
    "    latitude = Column(Float)\n",
    "    longitude = Column(Float)\n",
    "    elevation = Column(Float)\n",
    "\n",
    "class Measurement(Base):\n",
    "    __tablename__ = 'measurements'\n",
    "    station = Column(String(15), ForeignKey('stations.station'), primary_key=True)\n",
    "    date = Column(Date, primary_key=True)\n",
    "    prcp = Column(Float)\n",
    "    tobs = Column(Integer)\n",
    "\n",
    "# Create both the Station and Measurement tables within the database\n",
    "Base.metadata.create_all(engine)\n",
    "\n",
    "# To push the objects made and query the server we use a Session object\n",
    "session = Session(bind=engine)\n",
    "\n"
   ]
  },
  {
   "cell_type": "code",
   "execution_count": 3,
   "metadata": {
    "collapsed": true
   },
   "outputs": [],
   "source": [
    "for index, row in measurements_df.iterrows():\n",
    "    measurement_obj = Measurement(station=row['station'], date=datetime.strptime(row['date'], '%Y-%m-%d').date(),prcp=row['prcp'], tobs=row['tobs'])\n",
    "    session.add(measurement_obj)\n",
    "for index, row in stations_df.iterrows():\n",
    "    station_obj = Station(station=row['station'], name=row['name'],latitude=row['latitude'], longitude=row['longitude'], elevation=row['elevation'])\n",
    "    session.add(station_obj)\n",
    "session.commit()"
   ]
  }
 ],
 "metadata": {
  "kernelspec": {
   "display_name": "Python 3",
   "language": "python",
   "name": "python3"
  },
  "language_info": {
   "codemirror_mode": {
    "name": "ipython",
    "version": 3
   },
   "file_extension": ".py",
   "mimetype": "text/x-python",
   "name": "python",
   "nbconvert_exporter": "python",
   "pygments_lexer": "ipython3",
   "version": "3.6.2"
  }
 },
 "nbformat": 4,
 "nbformat_minor": 2
}
