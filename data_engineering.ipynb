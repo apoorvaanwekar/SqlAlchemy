{
 "cells": [
  {
   "cell_type": "code",
   "execution_count": 1,
   "metadata": {
    "collapsed": true
   },
   "outputs": [],
   "source": [
    "# Import Dependencies\n",
    "import pandas as pd\n",
    "import numpy as np\n",
    "\n",
    "# Create a reference the CSV file desired\n",
    "measurements_csv_path = \"Data/hawaii_measurements.csv\"\n",
    "stations_csv_path = \"Data/hawaii_stations.csv\"\n",
    "\n",
    "# Read the measurement CSV into a Pandas DataFrame\n",
    "measurements_df = pd.read_csv(measurements_csv_path)\n",
    "# Read the measurement CSV into a Pandas DataFrame\n",
    "stations_df = pd.read_csv(stations_csv_path)\n"
   ]
  },
  {
   "cell_type": "code",
   "execution_count": 2,
   "metadata": {
    "collapsed": true
   },
   "outputs": [],
   "source": [
    "# Replace NaN's with 0 values in measurements csv\n",
    "measurements_df.fillna(0, inplace=True)"
   ]
  },
  {
   "cell_type": "code",
   "execution_count": 3,
   "metadata": {
    "collapsed": true
   },
   "outputs": [],
   "source": [
    "# Save dataframe as clean CSV\n",
    "measurements_df.to_csv(\"Data/clean_hawaii_measurements.csv\", encoding='utf-8', index=False)"
   ]
  },
  {
   "cell_type": "code",
   "execution_count": 4,
   "metadata": {
    "collapsed": true
   },
   "outputs": [],
   "source": [
    "## No need to clean Stations data."
   ]
  }
 ],
 "metadata": {
  "kernelspec": {
   "display_name": "Python 3",
   "language": "python",
   "name": "python3"
  },
  "language_info": {
   "codemirror_mode": {
    "name": "ipython",
    "version": 3
   },
   "file_extension": ".py",
   "mimetype": "text/x-python",
   "name": "python",
   "nbconvert_exporter": "python",
   "pygments_lexer": "ipython3",
   "version": "3.6.2"
  }
 },
 "nbformat": 4,
 "nbformat_minor": 2
}
